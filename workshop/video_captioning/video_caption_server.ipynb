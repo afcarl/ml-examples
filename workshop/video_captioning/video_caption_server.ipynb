{
 "cells": [
  {
   "cell_type": "code",
   "execution_count": 1,
   "metadata": {
    "collapsed": false
   },
   "outputs": [],
   "source": [
    "zmq_port = 14000\n",
    "osc_port = 14001\n",
    "in_JP = False"
   ]
  },
  {
   "cell_type": "code",
   "execution_count": 2,
   "metadata": {
    "collapsed": false
   },
   "outputs": [
    {
     "name": "stderr",
     "output_type": "stream",
     "text": [
      "/usr/local/lib/python2.7/dist-packages/chainer/functions/activation/lstm.py:15: RuntimeWarning: overflow encountered in exp\n",
      "  return 1 / (1 + numpy.exp(-x))\n"
     ]
    }
   ],
   "source": [
    "import sys, os\n",
    "lib_root = '/root/shared/ml-examples/apple2373/chainer_caption_generation'\n",
    "\n",
    "sys.path.append(os.path.join(lib_root, 'codes'))\n",
    "sys.path.append(os.curdir)\n",
    "\n",
    "import numpy as np\n",
    "from caption_generator import Caption_generator\n",
    "from image_reader import Image_reader\n",
    "\n",
    "import zmq\n",
    "from OSC import OSCClient, OSCMessage\n",
    "from cStringIO import StringIO\n",
    "\n",
    "#Instantiate image_reader with GoogleNet mean image\n",
    "mean_image = np.array([104, 117, 123]).reshape((3,1,1))\n",
    "image_reader=Image_reader(mean=mean_image)\n",
    "\n",
    "#Instantiate caption generator\n",
    "cnn_model=os.path.join(lib_root,'data/bvlc_googlenet_caffe_chainer.pkl')\n",
    "if in_JP:\n",
    "    caption_model=os.path.join(lib_root, 'models/caption_model_jp.chainer')\n",
    "    index2word=os.path.join(lib_root,'work/index2token_jp.pkl')\n",
    "else:\n",
    "    caption_model=os.path.join(lib_root, 'models/caption_model.chainer')\n",
    "    index2word=os.path.join(lib_root,'work/index2token.pkl')\n",
    "\n",
    "generator=Caption_generator(caption_model_place=caption_model,cnn_model_place=cnn_model,index2word_place=index2word)\n",
    "\n",
    "#Specify IP address\n",
    "ip = '.'.join(map(lambda (i,x): x if i!=3 else '1' , enumerate(os.environ['HOST_IP'].split('.'))))\n",
    "\n",
    "#Instantiate zmq subscriber and osc client\n",
    "context = zmq.Context()\n",
    "subs = context.socket(zmq.SUB)\n",
    "subs.setsockopt(zmq.SUBSCRIBE, '')\n",
    "subs.connect(\"tcp://\" + ip + \":\" + str(zmq_port))\n",
    "\n",
    "client = OSCClient()\n",
    "client.connect((ip, osc_port))"
   ]
  },
  {
   "cell_type": "code",
   "execution_count": 3,
   "metadata": {
    "collapsed": false
   },
   "outputs": [
    {
     "name": "stdout",
     "output_type": "stream",
     "text": [
      "running video captioning ...\n",
      "finish\n"
     ]
    }
   ],
   "source": [
    "try:\n",
    "    print 'running video captioning ...'\n",
    "    sys.stdout.flush()\n",
    "    while True:\n",
    "        buf = subs.recv()\n",
    "        buf_str_io = StringIO(buf)\n",
    "        image = image_reader.read(buf_str_io)\n",
    "        captions = generator.generate(image)\n",
    "        \n",
    "        caption = ''\n",
    "        if in_JP:\n",
    "            words = captions[0]['sentence']\n",
    "            for word in words:\n",
    "                caption += word\n",
    "            caption = caption.encode('utf-8')\n",
    "        else:\n",
    "            caption = ' '.join(map(str,captions[0]['sentence']))\n",
    "\n",
    "        m = OSCMessage()\n",
    "        m.setAddress(\"/caption\")\n",
    "        m.append(caption)\n",
    "        client.send(m)\n",
    "except:\n",
    "    print 'finish'"
   ]
  }
 ],
 "metadata": {
  "kernelspec": {
   "display_name": "Python 2",
   "language": "python",
   "name": "python2"
  },
  "language_info": {
   "codemirror_mode": {
    "name": "ipython",
    "version": 2
   },
   "file_extension": ".py",
   "mimetype": "text/x-python",
   "name": "python",
   "nbconvert_exporter": "python",
   "pygments_lexer": "ipython2",
   "version": "2.7.6"
  }
 },
 "nbformat": 4,
 "nbformat_minor": 0
}
