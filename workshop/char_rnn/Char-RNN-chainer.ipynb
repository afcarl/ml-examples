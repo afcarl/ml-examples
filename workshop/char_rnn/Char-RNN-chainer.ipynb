{
 "cells": [
  {
   "cell_type": "code",
   "execution_count": 12,
   "metadata": {
    "collapsed": false
   },
   "outputs": [],
   "source": [
    "import sys, os\n",
    "lib_root = '/root/shared/ml-examples/yusuketomoto/chainer-char-rnn/'\n",
    "sys.path.append(lib_root)\n",
    "\n",
    "import subprocess\n",
    "def execute(cmd):\n",
    "    p = subprocess.Popen(cmd, shell=True, stdout=subprocess.PIPE, stderr=subprocess.PIPE)\n",
    "    stdout_data, stderr_data = p.communicate()\n",
    "    return p.returncode, stdout_data, stderr_data"
   ]
  },
  {
   "cell_type": "markdown",
   "metadata": {},
   "source": [
    "returncode : 0 success, otherwise failure."
   ]
  },
  {
   "cell_type": "markdown",
   "metadata": {},
   "source": [
    "# Training\n",
    "\n",
    "Specify both data_dir & checkpoint_dir, then execute train.py."
   ]
  },
  {
   "cell_type": "code",
   "execution_count": 25,
   "metadata": {
    "collapsed": false
   },
   "outputs": [],
   "source": [
    "data_dir = os.path.join(lib_root, 'data/tinyshakespeare')\n",
    "checkpoint_dir = 'ws'"
   ]
  },
  {
   "cell_type": "code",
   "execution_count": null,
   "metadata": {
    "collapsed": true
   },
   "outputs": [],
   "source": [
    "train_cmd = 'python %strain.py --data_dir %s --checkpoint_dir %s' % (lib_root, data_dir, checkpoint_dir)\n",
    "returncode, result, err = execute(train_cmd)"
   ]
  },
  {
   "cell_type": "markdown",
   "metadata": {},
   "source": [
    "# Sampling\n",
    "you need to specify model/vocab path."
   ]
  },
  {
   "cell_type": "code",
   "execution_count": 35,
   "metadata": {
    "collapsed": false
   },
   "outputs": [],
   "source": [
    "model_path = os.path.join(checkpoint_dir, 'latest.chainermodel')\n",
    "vocab_path = os.path.join(data_dir, 'vocab.bin')\n",
    "\n",
    "seed = 123\n",
    "sample = 1\n",
    "primetext = 'the meaning of life is '\n",
    "length = 500"
   ]
  },
  {
   "cell_type": "code",
   "execution_count": null,
   "metadata": {
    "collapsed": true
   },
   "outputs": [],
   "source": [
    "sample_cmd = 'python /root/shared/ml-examples/yusuketomoto/chainer-char-rnn/sample.py \\\n",
    "--model %s --vocabulary %s --primetext \"%s\"' % (model_path, vocab_path, primetext)\n",
    "returncode, generated, err = execute(sample_cmd)\n",
    "\n",
    "if returncode is 0:\n",
    "    print generated\n",
    "else:\n",
    "    print err"
   ]
  }
 ],
 "metadata": {
  "kernelspec": {
   "display_name": "Python 2",
   "language": "python",
   "name": "python2"
  },
  "language_info": {
   "codemirror_mode": {
    "name": "ipython",
    "version": 2
   },
   "file_extension": ".py",
   "mimetype": "text/x-python",
   "name": "python",
   "nbconvert_exporter": "python",
   "pygments_lexer": "ipython2",
   "version": "2.7.6"
  }
 },
 "nbformat": 4,
 "nbformat_minor": 0
}
