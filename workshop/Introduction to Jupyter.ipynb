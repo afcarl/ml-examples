{
 "cells": [
  {
   "cell_type": "markdown",
   "metadata": {},
   "source": [
    "Jupyter is an interactive development environment that allows you to write code step-by-step, saving and re-running chunks of code as necessary. Ideally, once you're done with a notebook you should be able to click `File > Download As > Python (.py)` and run the whole notebook in order as one script.\n",
    "\n",
    "Jupyter used to be called \"IPython Notebook\" and a lot of documentation refers to it that way still. But now Jupyter supports other languages too (like Lua/Torch) and it's more general purpose. A complete introduction to Jupyter is available [here](http://jupyter-notebook.readthedocs.org/en/latest/notebook.html).\n",
    "\n",
    "In Jupyter, code is divided into cells. Evaluate a cell by selecting it and then clicking `Cell > Run` or by typing `Shift + Enter`. Try it on the next cell."
   ]
  },
  {
   "cell_type": "code",
   "execution_count": 5,
   "metadata": {
    "collapsed": false
   },
   "outputs": [
    {
     "name": "stdout",
     "output_type": "stream",
     "text": [
      "Hello world!!\n"
     ]
    }
   ],
   "source": [
    "print 'Hello world!!'"
   ]
  },
  {
   "cell_type": "markdown",
   "metadata": {},
   "source": [
    "Besides printing out things you tell it to print, Jupyter will also print out the value of the last line in a cell."
   ]
  },
  {
   "cell_type": "code",
   "execution_count": 6,
   "metadata": {
    "collapsed": false
   },
   "outputs": [
    {
     "data": {
      "text/plain": [
       "4"
      ]
     },
     "execution_count": 6,
     "metadata": {},
     "output_type": "execute_result"
    }
   ],
   "source": [
    "2 + 2"
   ]
  },
  {
   "cell_type": "markdown",
   "metadata": {},
   "source": [
    "All data is stored \"behind the scenes\" and can be passed between cells. First evaluate the next cell:"
   ]
  },
  {
   "cell_type": "code",
   "execution_count": 7,
   "metadata": {
    "collapsed": true
   },
   "outputs": [],
   "source": [
    "each = 'ひとり'"
   ]
  },
  {
   "cell_type": "markdown",
   "metadata": {},
   "source": [
    "Then evaluate the next cell."
   ]
  },
  {
   "cell_type": "code",
   "execution_count": 8,
   "metadata": {
    "collapsed": false
   },
   "outputs": [
    {
     "name": "stdout",
     "output_type": "stream",
     "text": [
      "ひとりひとり\n"
     ]
    }
   ],
   "source": [
    "every = each + each\n",
    "print every"
   ]
  },
  {
   "cell_type": "markdown",
   "metadata": {},
   "source": [
    "If there is some operation that is running for too long, we can cancel it by pressing the \"stop\" button above. Try running the following cell then pressing \"stop\"."
   ]
  },
  {
   "cell_type": "code",
   "execution_count": null,
   "metadata": {
    "collapsed": false
   },
   "outputs": [],
   "source": [
    "from time import sleep\n",
    "try:\n",
    "    for i in range(30):\n",
    "        sleep(1)\n",
    "except KeyboardInterrupt:\n",
    "    print 'Manually stopped'"
   ]
  },
  {
   "cell_type": "markdown",
   "metadata": {},
   "source": [
    "Normally the cell will print some error information about the line it stopped on, similar to pressing `Ctrl + c` in a shell. But instead, we used `try/except` to catch the error.\n",
    "\n",
    "If your code is really stuck, sometimes you need to restart everything. To do that, press the `Restart Kernel` button. This will clear any intermediate results you have.\n",
    "\n",
    "One more really important thing to know about Jupyter is that it interfaces nicely with matplotlib, a plotting library. We can import matplotlib and use a special line beginning with `%` (called a \"[magic](http://nbviewer.ipython.org/github/ipython/ipython/blob/1.x/examples/notebooks/Cell%20Magics.ipynb)\")."
   ]
  },
  {
   "cell_type": "code",
   "execution_count": 1,
   "metadata": {
    "collapsed": false
   },
   "outputs": [
    {
     "name": "stderr",
     "output_type": "stream",
     "text": [
      "/usr/local/lib/python2.7/dist-packages/matplotlib/font_manager.py:273: UserWarning: Matplotlib is building the font cache using fc-list. This may take a moment.\n",
      "  warnings.warn('Matplotlib is building the font cache using fc-list. This may take a moment.')\n"
     ]
    },
    {
     "data": {
      "text/plain": [
       "[<matplotlib.lines.Line2D at 0x7f1874b41d50>]"
      ]
     },
     "execution_count": 1,
     "metadata": {},
     "output_type": "execute_result"
    },
    {
     "data": {
      "image/png": "[encoded data removed]",
      "text/plain": [
       "<matplotlib.figure.Figure at 0x7f1874df77d0>"
      ]
     },
     "metadata": {},
     "output_type": "display_data"
    }
   ],
   "source": [
    "from matplotlib import pyplot as plt\n",
    "%matplotlib inline\n",
    "from math import sin\n",
    "plt.plot([sin(x) for x in range(25)])"
   ]
  },
  {
   "cell_type": "markdown",
   "metadata": {},
   "source": [
    "Notice that we can leave off `plt.show()` if we want, because `plt.plot()` already returns the plot."
   ]
  }
 ],
 "metadata": {
  "kernelspec": {
   "display_name": "Python 2",
   "language": "python",
   "name": "python2"
  },
  "language_info": {
   "codemirror_mode": {
    "name": "ipython",
    "version": 2
   },
   "file_extension": ".py",
   "mimetype": "text/x-python",
   "name": "python",
   "nbconvert_exporter": "python",
   "pygments_lexer": "ipython2",
   "version": "2.7.6"
  }
 },
 "nbformat": 4,
 "nbformat_minor": 0
}
