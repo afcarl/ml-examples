{
 "cells": [
  {
   "cell_type": "code",
   "execution_count": 1,
   "metadata": {
    "collapsed": false
   },
   "outputs": [],
   "source": [
    "import sys, os\n",
    "lib_root = '/root/shared/ml-examples/mattya/chainer-gogh/'\n",
    "sys.path.append(lib_root)\n",
    "\n",
    "os.system('ln -s ../../models/nin/nin_imagenet.caffemodel nin_imagenet.caffemodel')\n",
    "os.system('ln -s ../../models/bvlc_googlenet/bvlc_googlenet.caffemodel bvlc_googlenet.caffemodel')\n",
    "os.system('ln -s ../../models/bvlc_googlenet/deploy.prototxt deploy.prototxt')\n",
    "os.system('ln -s ../../models/i2v/illust2vec_tag_ver200.caffemodel illust2vec_tag_ver200.caffemodel')\n",
    "os.system('ln -s ../../models/vgg/VGG_ILSVRC_16_layers.caffemodel VGG_ILSVRC_16_layers.caffemodel')\n",
    "\n",
    "import subprocess\n",
    "def execute(cmd):\n",
    "    p = subprocess.Popen(cmd, shell=True, stdout=subprocess.PIPE, stderr=subprocess.PIPE)\n",
    "    stdout_data, stderr_data = p.communicate()\n",
    "    return p.returncode, stdout_data, stderr_data"
   ]
  },
  {
   "cell_type": "code",
   "execution_count": 2,
   "metadata": {
    "collapsed": false
   },
   "outputs": [],
   "source": [
    "style_image = '/root/shared/ml-examples/mattya/chainer-gogh/sample_images/style_0.png'\n",
    "content_image = '/root/shared/ml-examples/mattya/chainer-gogh/sample_images/cat.png'\n",
    "model_type = 'nin' # 'nin' 'vgg' 'googlenet' 'i2v'\n",
    "output_dir = 'output'"
   ]
  },
  {
   "cell_type": "code",
   "execution_count": null,
   "metadata": {
    "collapsed": true
   },
   "outputs": [],
   "source": [
    "sample_cmd = 'python %schainer-gogh.py -m %s -i %s -s %s -o %s -g -1' % (lib_root, model_type, content_image, style_image, output_dir)\n",
    "print sample_cmd\n",
    "\n",
    "execute(sample_cmd)"
   ]
  }
 ],
 "metadata": {
  "kernelspec": {
   "display_name": "Python 2",
   "language": "python",
   "name": "python2"
  },
  "language_info": {
   "codemirror_mode": {
    "name": "ipython",
    "version": 2
   },
   "file_extension": ".py",
   "mimetype": "text/x-python",
   "name": "python",
   "nbconvert_exporter": "python",
   "pygments_lexer": "ipython2",
   "version": "2.7.6"
  }
 },
 "nbformat": 4,
 "nbformat_minor": 0
}
